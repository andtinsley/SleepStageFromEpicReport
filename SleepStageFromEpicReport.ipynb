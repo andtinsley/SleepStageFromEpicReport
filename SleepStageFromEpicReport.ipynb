{
 "cells": [
  {
   "cell_type": "code",
   "execution_count": 1,
   "metadata": {},
   "outputs": [],
   "source": [
    "import pandas as pd\n",
    "import glob\n",
    "import os"
   ]
  },
  {
   "cell_type": "code",
   "execution_count": 35,
   "metadata": {},
   "outputs": [],
   "source": [
    "path = os.getcwd()\n",
    "# read all the files with extension xlsx\n",
    "filenames = glob.glob(os.path.join(path, \"*_EpochReport.xlsx\"))\n",
    "\n",
    "# collect first two columns. File name to match subject ID from file\n",
    "\n",
    "for file in filenames:\n",
    "   # reading csv files\n",
    "   d = pd.read_excel(file)\n",
    "   d=d.iloc[:,0:2]\n",
    "   file_name = file\n",
    "   file_name = file_name.rsplit('\\\\', 1)[-1]\n",
    "   file_name = file_name.split('.')[0]\n",
    "   file_name = file_name.split('_')[0]\n",
    "   file_name = file_name+'_SleepStageReport'\n",
    "   d.to_excel(file_name + '.xlsx', index=False)"
   ]
  }
 ],
 "metadata": {
  "kernelspec": {
   "display_name": "SleepStageFromEpicReport",
   "language": "python",
   "name": "python3"
  },
  "language_info": {
   "codemirror_mode": {
    "name": "ipython",
    "version": 3
   },
   "file_extension": ".py",
   "mimetype": "text/x-python",
   "name": "python",
   "nbconvert_exporter": "python",
   "pygments_lexer": "ipython3",
   "version": "3.10.1"
  },
  "orig_nbformat": 4
 },
 "nbformat": 4,
 "nbformat_minor": 2
}
